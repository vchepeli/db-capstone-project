{
 "cells": [
  {
   "cell_type": "code",
   "execution_count": null,
   "id": "e7e3a8c7-53c3-436d-9e4b-6616096e94a3",
   "metadata": {},
   "outputs": [],
   "source": [
    "!pip install mysql-connector-python"
   ]
  },
  {
   "cell_type": "code",
   "execution_count": null,
   "id": "b45b2910-a56b-4a4d-8a55-00dde234a953",
   "metadata": {},
   "outputs": [],
   "source": [
    "!pip install --upgrade pip"
   ]
  },
  {
   "cell_type": "code",
   "execution_count": 4,
   "id": "3b2e2963-3bad-46f3-a5e9-8cae87ec2a29",
   "metadata": {},
   "outputs": [],
   "source": [
    "import mysql.connector as connector"
   ]
  },
  {
   "cell_type": "code",
   "execution_count": null,
   "id": "36ca81ff-a888-4dd7-b08e-f5136ec32824",
   "metadata": {},
   "outputs": [],
   "source": [
    "db_cfg = {\n",
    "    'user': 'coursera',\n",
    "    'password': 'Password1',\n",
    "    'host': '127.0.0.1',\n",
    "    'database': 'LittleLemonDB',\n",
    "    'raise_on_warnings': True\n",
    "}\n",
    "\n",
    "try:\n",
    "    # Using the `connect` method of the mysql_connector module to establish a connection\n",
    "    connection = connector.connect(**db_cfg)\n",
    "\n",
    "    # If connection is successful, print a success message\n",
    "    print(\"Database connection successful!\")\n",
    "except connector.Error as err:\n",
    "    # If an error occurs print the error message\n",
    "    print(f\"Error: {err}\")\n"
   ]
  },
  {
   "cell_type": "code",
   "execution_count": null,
   "id": "f2537d8f-363b-4136-8680-abca86225235",
   "metadata": {},
   "outputs": [],
   "source": [
    "    # Creating a cursor object using the connection\n",
    "    cursor = connection.cursor()\n",
    "    \n",
    "    # SQL query to show all tables in the database\n",
    "    query = \"SHOW TABLES\"\n",
    "    \n",
    "    # Executing the query\n",
    "    cursor.execute(query)\n",
    "    \n",
    "    # Fetching the results\n",
    "    tables = cursor.fetchall()  # This will return a list of tables present in the database\n",
    "    \n",
    "    # Printing the list of tables\n",
    "    for (table_name,) in tables:\n",
    "        print(table_name)\n"
   ]
  },
  {
   "cell_type": "code",
   "execution_count": null,
   "id": "c3c65dad-b20f-4594-a044-71ce458a1e46",
   "metadata": {},
   "outputs": [],
   "source": [
    "# Execute the query\n",
    "cursor.execute(\"\"\"\n",
    "SELECT concat(Customers.FirstName, ' ', Customers.LastName) , Customers.ContactNumber, Orders.TotalCost\n",
    "FROM Customers\n",
    "  JOIN Bookings ON Bookings.CustomerId = Customers.CustomerId\n",
    "  JOIN Orders ON Orders.BookingId = Bookings.BookingId\n",
    "WHERE Orders.TotalCost > 60\n",
    "\"\"\")\n",
    "\n",
    "# Fetch all results\n",
    "results = cursor.fetchall()\n",
    "\n",
    "# Print the results\n",
    "for result in results:\n",
    "    full_name, contact_details, total_cost = result\n",
    "    print(f\"Name: {full_name}, Contact: {contact_details}, Total Cost: ${total_cost}\")"
   ]
  },
  {
   "cell_type": "code",
   "execution_count": 45,
   "id": "76880f86-5900-4d63-9d43-42f9ca7c2071",
   "metadata": {},
   "outputs": [],
   "source": [
    "cursor.close();"
   ]
  },
  {
   "cell_type": "code",
   "execution_count": null,
   "id": "8112b0ca-33eb-4030-8428-d32459276a4a",
   "metadata": {},
   "outputs": [],
   "source": [
    "if (connection.is_connected()):\n",
    "    connection.close()\n",
    "    print(\"Database connection closed.\")    "
   ]
  },
  {
   "cell_type": "code",
   "execution_count": null,
   "id": "6748cb58-9342-4c21-9dab-121446610b56",
   "metadata": {},
   "outputs": [],
   "source": []
  }
 ],
 "metadata": {
  "kernelspec": {
   "display_name": "Python 3 (ipykernel)",
   "language": "python",
   "name": "python3"
  },
  "language_info": {
   "codemirror_mode": {
    "name": "ipython",
    "version": 3
   },
   "file_extension": ".py",
   "mimetype": "text/x-python",
   "name": "python",
   "nbconvert_exporter": "python",
   "pygments_lexer": "ipython3",
   "version": "3.11.5"
  }
 },
 "nbformat": 4,
 "nbformat_minor": 5
}
